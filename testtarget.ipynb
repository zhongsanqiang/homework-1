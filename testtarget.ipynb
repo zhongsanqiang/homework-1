{
  "nbformat": 4,
  "nbformat_minor": 0,
  "metadata": {
    "colab": {
      "name": "testtarget.ipynb",
      "provenance": [],
      "include_colab_link": true
    },
    "kernelspec": {
      "name": "python3",
      "display_name": "Python 3"
    }
  },
  "cells": [
    {
      "cell_type": "markdown",
      "metadata": {
        "id": "view-in-github",
        "colab_type": "text"
      },
      "source": [
        "<a href=\"https://colab.research.google.com/github/vu-bigdata-2020/homework-1-zhongsanqiang/blob/master/testtarget.ipynb\" target=\"_parent\"><img src=\"https://colab.research.google.com/assets/colab-badge.svg\" alt=\"Open In Colab\"/></a>"
      ]
    },
    {
      "cell_type": "code",
      "metadata": {
        "id": "GC3Lt7fbM55e",
        "colab_type": "code",
        "colab": {}
      },
      "source": [
        "from time import time"
      ],
      "execution_count": 0,
      "outputs": []
    },
    {
      "cell_type": "markdown",
      "metadata": {
        "id": "qhkEQOrmfP_U",
        "colab_type": "text"
      },
      "source": [
        "Given a list l = [] and target t, return True if there exists l[i] + l[j] == t.\n",
        "Assume elements of l are positive and unique.\n",
        "\n",
        "The obvious solution using two nested lists is implemented below as simple_targeted_sum below. Your solution should be different and more efficient."
      ]
    },
    {
      "cell_type": "code",
      "metadata": {
        "id": "qor17gcKfXev",
        "colab_type": "code",
        "colab": {}
      },
      "source": [
        "def simple_targeted_sum(l, t):\n",
        "    for i in l:\n",
        "        for j in l:\n",
        "            if i + j == t:\n",
        "                return True\n",
        "\n",
        "    return False"
      ],
      "execution_count": 0,
      "outputs": []
    },
    {
      "cell_type": "code",
      "metadata": {
        "id": "odxSgfoofkMw",
        "colab_type": "code",
        "colab": {}
      },
      "source": [
        "def targeted_sum(l, t):\n",
        "    # implement\n",
        "    return True"
      ],
      "execution_count": 0,
      "outputs": []
    },
    {
      "cell_type": "code",
      "metadata": {
        "id": "7CgWsnqvfnEh",
        "colab_type": "code",
        "colab": {}
      },
      "source": [
        "def test_target1():\n",
        "    assert targeted_sum([1, 4, 3, 9], 5) is True\n",
        "    "
      ],
      "execution_count": 0,
      "outputs": []
    },
    {
      "cell_type": "code",
      "metadata": {
        "id": "DKX9U5MmfqQY",
        "colab_type": "code",
        "colab": {}
      },
      "source": [
        "def test_target2():\n",
        "    assert targeted_sum([1, 4, 3, 9], 51) is False\n",
        "    "
      ],
      "execution_count": 0,
      "outputs": []
    },
    {
      "cell_type": "code",
      "metadata": {
        "id": "g3fbSEGnf2dg",
        "colab_type": "code",
        "colab": {}
      },
      "source": [
        "#your code should be more efficient. The following checks for that\n",
        "def test_target_time():\n",
        "    l = range(0, 200)\n",
        "\n",
        "    t1 = time()\n",
        "    r1 = targeted_sum(l, 250)\n",
        "    t2 = time() - t1\n",
        "\n",
        "    t3 = time()\n",
        "    r2 = simple_targeted_sum(l, 250)\n",
        "    t4 = time() - t3\n",
        "\n",
        "    assert r1 == r2\n",
        "    assert t2 < t4"
      ],
      "execution_count": 0,
      "outputs": []
    },
    {
      "cell_type": "code",
      "metadata": {
        "id": "lBgONZFTf92Y",
        "colab_type": "code",
        "colab": {}
      },
      "source": [
        "if __name__ == '__main__':\n",
        "    print(targeted_sum([1,4,7,11], 5))\n",
        "    print(simple_targeted_sum([1,4,7,11], 5))\n",
        "    print(targeted_sum([1,4,7,11], 33))\n",
        "    print(simple_targeted_sum([1,4,7,11], 33))\n",
        "    test_target1()\n",
        "    test_target2()\n",
        "    test_target_time()"
      ],
      "execution_count": 0,
      "outputs": []
    }
  ]
}
